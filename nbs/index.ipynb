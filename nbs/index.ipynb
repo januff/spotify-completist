{
 "cells": [
  {
   "cell_type": "code",
   "execution_count": 27,
   "metadata": {},
   "outputs": [],
   "source": [
    "#| hide\n",
    "from spotify_completist.core import *"
   ]
  },
  {
   "cell_type": "markdown",
   "metadata": {},
   "source": [
    "# spotify-completist\n",
    "\n",
    "> listening app with Spotipy library"
   ]
  },
  {
   "cell_type": "code",
   "execution_count": 295,
   "metadata": {},
   "outputs": [],
   "source": [
    "#| hide\n",
    "import os\n",
    "from dotenv import load_dotenv # add this line\n",
    "load_dotenv() # add this line\n",
    "\n",
    "os.environ['SPOTIPY_CLIENT_ID'] = os.getenv('SPOTIPY_CLIENT_ID')\n",
    "os.environ['SPOTIPY_CLIENT_SECRET'] = os.getenv('SPOTIPY_CLIENT_SECRET')"
   ]
  },
  {
   "cell_type": "markdown",
   "metadata": {},
   "source": [
    "## Import Spotify"
   ]
  },
  {
   "cell_type": "markdown",
   "metadata": {},
   "source": [
    "Using the Spotipy library to make a simple query:"
   ]
  },
  {
   "cell_type": "code",
   "execution_count": 29,
   "metadata": {},
   "outputs": [
    {
     "data": {
      "text/plain": [
       "[{'collaborative': False,\n",
       "  'description': 'Took me four months to listen to everything: 72 playlists&#x2F;2,230 songs. I hearted many more, but these I really love.',\n",
       "  'external_urls': {'spotify': 'https://open.spotify.com/playlist/4dBFbr2S6knmUQcSmEbKzn'},\n",
       "  'href': 'https://api.spotify.com/v1/playlists/4dBFbr2S6knmUQcSmEbKzn',\n",
       "  'id': '4dBFbr2S6knmUQcSmEbKzn',\n",
       "  'images': [{'height': None,\n",
       "    'url': 'https://i.scdn.co/image/ab67706c0000bebb545f7234a2d257a450ae5082',\n",
       "    'width': None}],\n",
       "  'name': '@danstrachota 2016-2022 Mixdown',\n",
       "  'owner': {'display_name': 'Joey Anuff',\n",
       "   'external_urls': {'spotify': 'https://open.spotify.com/user/criticalmetrics'},\n",
       "   'href': 'https://api.spotify.com/v1/users/criticalmetrics',\n",
       "   'id': 'criticalmetrics',\n",
       "   'type': 'user',\n",
       "   'uri': 'spotify:user:criticalmetrics'},\n",
       "  'primary_color': None,\n",
       "  'public': True,\n",
       "  'snapshot_id': 'MjAxLGRiMjk2OGVkMzkwODc4NTVhMDVhMTI1MzAyNDg1MDJiNmY4MzIyMzU=',\n",
       "  'tracks': {'href': 'https://api.spotify.com/v1/playlists/4dBFbr2S6knmUQcSmEbKzn/tracks',\n",
       "   'total': 55},\n",
       "  'type': 'playlist',\n",
       "  'uri': 'spotify:playlist:4dBFbr2S6knmUQcSmEbKzn'}]"
      ]
     },
     "execution_count": 29,
     "metadata": {},
     "output_type": "execute_result"
    }
   ],
   "source": [
    "import spotipy\n",
    "from spotipy.oauth2 import SpotifyClientCredentials\n",
    "\n",
    "user_id = 'criticalmetrics'\n",
    "spotify = spotipy.Spotify(client_credentials_manager=SpotifyClientCredentials())\n",
    "\n",
    "results = spotify.user_playlists(user_id)\n",
    "playlists = results['items']\n",
    "\n",
    "while results['next']:\n",
    "    results = spotify.next(results)\n",
    "    playlists.extend(results['items'])\n",
    "\n",
    "playlists\n"
   ]
  },
  {
   "cell_type": "markdown",
   "metadata": {},
   "source": [
    "## Getting My Playlist"
   ]
  },
  {
   "cell_type": "code",
   "execution_count": 30,
   "metadata": {},
   "outputs": [],
   "source": [
    "#| echo: false\n",
    "\n",
    "playlist_id = '4dBFbr2S6knmUQcSmEbKzn'\n",
    "spotify = spotipy.Spotify(client_credentials_manager=SpotifyClientCredentials())\n",
    "\n",
    "results = spotify.playlist_tracks(playlist_id)\n",
    "tracks = results['items']"
   ]
  },
  {
   "cell_type": "code",
   "execution_count": 31,
   "metadata": {},
   "outputs": [
    {
     "name": "stdout",
     "output_type": "stream",
     "text": [
      "Chime School, Wait Your Turn\n",
      "Rolling Blackouts Coastal Fever, She's There\n",
      "Jeanines, Who's In The Dark\n",
      "Ezrat, I Know What That's Like\n",
      "The Ashenden Papers, The River Highway\n",
      "Sonny Smith, Pictures of You\n",
      "The Goon Sax, She Knows\n",
      "Chime School, Fixing Motorcycles\n",
      "The Boys With The Perpetual Nervousness, Turning Red\n",
      "Ginnels, Settle Down\n",
      "Mood Six, What Have You Ever Done?\n",
      "Dead Famous People, Barlow's House\n",
      "Close Lobsters, Going To Heaven To See If It Rains\n",
      "Primal Scream, Gentle Tuesday\n",
      "Pavo Pavo, Mystery Hour\n",
      "SASAMI, Not The Time\n",
      "Young Guv, Too Far Gone\n",
      "Dummy, Daffodils\n",
      "Volage, Horses\n",
      "Aquaserge, Virage sud\n",
      "M. Ward, Migration of Souls\n",
      "Shy Boys, Something Sweet\n",
      "Pist Idiots, Juliette\n",
      "Stephen Becker, Unspoken\n",
      "Juan Wauters, Letter\n",
      "Paul Kelly, Before Too Long\n",
      "Simon Doom, You Can't Be Real\n",
      "Cende, Bed\n",
      "Sam Evian, Need You\n",
      "James Swanberg, It's No Wonder\n",
      "Papercuts, I Want My Jacket Back\n",
      "Twin Peaks, Walk to the One You Love\n",
      "Lewsberg, Cold Light of Day\n",
      "Nap Eyes, Every Time the Feeling\n",
      "Scott & Charlene's Wedding, Outside World\n",
      "PAINT, Splattered\n",
      "Vanishing Twin, Telescope\n",
      "Exploded View, Summer Came Early\n",
      "Whyte Horses, Empty Words\n",
      "Elle Músa, Mango Pops\n",
      "Clara Luciani, On ne meurt pas d'amour\n",
      "Gwenno, Tir Ha mor\n",
      "The Ophelias, Fog\n",
      "Coco, Last of the Loving\n",
      "Half Stack, Know You Well\n",
      "Drahla, Silk Spirit\n",
      "Dumb, Pull Me Up\n",
      "Terry, Rio\n",
      "Omni, Equestrian\n",
      "Blumentopf, Safari\n",
      "The UMC's, One To Grow On\n",
      "Barney Artist, 93\n",
      "Ata Kak, Yemmpa Aba\n",
      "Volta Jazz, Djougou Toro\n",
      "Ayalew Mesfin, Hasabe (My Worries)\n"
     ]
    }
   ],
   "source": [
    "for t in tracks:\n",
    "  print(f\"{t['track']['artists'][0]['name']}, {t['track']['name']}\")\n"
   ]
  },
  {
   "cell_type": "markdown",
   "metadata": {},
   "source": [
    "## Turning JSON into Pandas Dataframe"
   ]
  },
  {
   "cell_type": "code",
   "execution_count": 291,
   "metadata": {},
   "outputs": [
    {
     "data": {
      "text/html": [
       "<div>\n",
       "<style scoped>\n",
       "    .dataframe tbody tr th:only-of-type {\n",
       "        vertical-align: middle;\n",
       "    }\n",
       "\n",
       "    .dataframe tbody tr th {\n",
       "        vertical-align: top;\n",
       "    }\n",
       "\n",
       "    .dataframe thead th {\n",
       "        text-align: right;\n",
       "    }\n",
       "</style>\n",
       "<table border=\"1\" class=\"dataframe\">\n",
       "  <thead>\n",
       "    <tr style=\"text-align: right;\">\n",
       "      <th></th>\n",
       "      <th>artist.id</th>\n",
       "      <th>artist.name</th>\n",
       "      <th>track.name</th>\n",
       "      <th>track.id</th>\n",
       "      <th>track.duration_ms</th>\n",
       "      <th>track.popularity</th>\n",
       "      <th>track.preview_url</th>\n",
       "      <th>track.image.url</th>\n",
       "    </tr>\n",
       "  </thead>\n",
       "  <tbody>\n",
       "    <tr>\n",
       "      <th>0</th>\n",
       "      <td>4GBgN14vJ7UQYUebQk0hJa</td>\n",
       "      <td>Chime School</td>\n",
       "      <td>Wait Your Turn</td>\n",
       "      <td>5Z37d9IferQIvubtWWWhe0</td>\n",
       "      <td>236676</td>\n",
       "      <td>9</td>\n",
       "      <td>https://p.scdn.co/mp3-preview/878ed5ce7b1b3f00...</td>\n",
       "      <td>https://i.scdn.co/image/ab67616d0000b273f48358...</td>\n",
       "    </tr>\n",
       "    <tr>\n",
       "      <th>1</th>\n",
       "      <td>65mMkD9WW39U9Yadv0dWUF</td>\n",
       "      <td>Rolling Blackouts Coastal Fever</td>\n",
       "      <td>She's There</td>\n",
       "      <td>10rRY5gfdeIHVJJVqSvbV7</td>\n",
       "      <td>224334</td>\n",
       "      <td>0</td>\n",
       "      <td>None</td>\n",
       "      <td>https://i.scdn.co/image/ab67616d0000b273f48358...</td>\n",
       "    </tr>\n",
       "    <tr>\n",
       "      <th>2</th>\n",
       "      <td>4brlhKgPDyI5xPbmRFm8eZ</td>\n",
       "      <td>Jeanines</td>\n",
       "      <td>Who's In The Dark</td>\n",
       "      <td>4oEj0Jju4kHyj24uVIMmQj</td>\n",
       "      <td>84000</td>\n",
       "      <td>2</td>\n",
       "      <td>https://p.scdn.co/mp3-preview/355597ca5e755492...</td>\n",
       "      <td>https://i.scdn.co/image/ab67616d0000b273f48358...</td>\n",
       "    </tr>\n",
       "    <tr>\n",
       "      <th>3</th>\n",
       "      <td>0WTobI5t4W2M1G9mNNUbR8</td>\n",
       "      <td>Ezrat</td>\n",
       "      <td>I Know What That's Like</td>\n",
       "      <td>1gZsSsKOWa7jLdHlG1ttvP</td>\n",
       "      <td>171102</td>\n",
       "      <td>2</td>\n",
       "      <td>https://p.scdn.co/mp3-preview/96acc28fb8328dd3...</td>\n",
       "      <td>https://i.scdn.co/image/ab67616d0000b273f48358...</td>\n",
       "    </tr>\n",
       "    <tr>\n",
       "      <th>4</th>\n",
       "      <td>6xoHdsyiomygIKZ00Rd8oc</td>\n",
       "      <td>The Ashenden Papers</td>\n",
       "      <td>The River Highway</td>\n",
       "      <td>57XK9jbD6kQzprvQWlOruJ</td>\n",
       "      <td>185189</td>\n",
       "      <td>0</td>\n",
       "      <td>https://p.scdn.co/mp3-preview/175fcba4f5cb241b...</td>\n",
       "      <td>https://i.scdn.co/image/ab67616d0000b273f48358...</td>\n",
       "    </tr>\n",
       "  </tbody>\n",
       "</table>\n",
       "</div>"
      ],
      "text/plain": [
       "                artist.id                      artist.name  \\\n",
       "0  4GBgN14vJ7UQYUebQk0hJa                     Chime School   \n",
       "1  65mMkD9WW39U9Yadv0dWUF  Rolling Blackouts Coastal Fever   \n",
       "2  4brlhKgPDyI5xPbmRFm8eZ                         Jeanines   \n",
       "3  0WTobI5t4W2M1G9mNNUbR8                            Ezrat   \n",
       "4  6xoHdsyiomygIKZ00Rd8oc              The Ashenden Papers   \n",
       "\n",
       "                track.name                track.id track.duration_ms  \\\n",
       "0           Wait Your Turn  5Z37d9IferQIvubtWWWhe0            236676   \n",
       "1              She's There  10rRY5gfdeIHVJJVqSvbV7            224334   \n",
       "2        Who's In The Dark  4oEj0Jju4kHyj24uVIMmQj             84000   \n",
       "3  I Know What That's Like  1gZsSsKOWa7jLdHlG1ttvP            171102   \n",
       "4        The River Highway  57XK9jbD6kQzprvQWlOruJ            185189   \n",
       "\n",
       "  track.popularity                                  track.preview_url  \\\n",
       "0                9  https://p.scdn.co/mp3-preview/878ed5ce7b1b3f00...   \n",
       "1                0                                               None   \n",
       "2                2  https://p.scdn.co/mp3-preview/355597ca5e755492...   \n",
       "3                2  https://p.scdn.co/mp3-preview/96acc28fb8328dd3...   \n",
       "4                0  https://p.scdn.co/mp3-preview/175fcba4f5cb241b...   \n",
       "\n",
       "                                     track.image.url  \n",
       "0  https://i.scdn.co/image/ab67616d0000b273f48358...  \n",
       "1  https://i.scdn.co/image/ab67616d0000b273f48358...  \n",
       "2  https://i.scdn.co/image/ab67616d0000b273f48358...  \n",
       "3  https://i.scdn.co/image/ab67616d0000b273f48358...  \n",
       "4  https://i.scdn.co/image/ab67616d0000b273f48358...  "
      ]
     },
     "execution_count": 291,
     "metadata": {},
     "output_type": "execute_result"
    }
   ],
   "source": [
    "import pandas as pd\n",
    "df = pd.DataFrame(tracks)\n",
    "out = pd.json_normalize(df['track'], record_path=['artists'], record_prefix='artist.', meta=['name','album','id','duration_ms','popularity','preview_url'], meta_prefix='track.')\n",
    "out['track.image.url'] = out['track.album'][0]['images'][0]['url']\n",
    "out.drop(['track.album','artist.type','artist.href','artist.uri','artist.external_urls.spotify'],inplace=True, axis=1)\n",
    "out.head()"
   ]
  },
  {
   "cell_type": "code",
   "execution_count": 292,
   "metadata": {},
   "outputs": [
    {
     "name": "stderr",
     "output_type": "stream",
     "text": [
      "/var/folders/7h/d_pnsmpx3n30v0pzdm_02_dm0000gn/T/ipykernel_73222/961757381.py:4: FutureWarning: The default value of regex will change from True to False in a future version.\n",
      "  out['track.image.html'] = out['track.image.url']\\\n"
     ]
    }
   ],
   "source": [
    "import pandas as pd\n",
    "from IPython.display import Image, HTML\n",
    "\n",
    "out['track.image.html'] = out['track.image.url']\\\n",
    "    .str.replace(\n",
    "        '(.*)', \n",
    "        '<img src=\"\\\\1\" style=\"max-height:124px;\"></img>'\n",
    "    )\n",
    "with pd.option_context('display.max_colwidth', 10000):\n",
    "    HTML(out.to_html(escape=False))"
   ]
  },
  {
   "cell_type": "code",
   "execution_count": 293,
   "metadata": {},
   "outputs": [
    {
     "data": {
      "text/html": [
       "<div>\n",
       "<style scoped>\n",
       "    .dataframe tbody tr th:only-of-type {\n",
       "        vertical-align: middle;\n",
       "    }\n",
       "\n",
       "    .dataframe tbody tr th {\n",
       "        vertical-align: top;\n",
       "    }\n",
       "\n",
       "    .dataframe thead th {\n",
       "        text-align: right;\n",
       "    }\n",
       "</style>\n",
       "<table border=\"1\" class=\"dataframe\">\n",
       "  <thead>\n",
       "    <tr style=\"text-align: right;\">\n",
       "      <th></th>\n",
       "      <th>artist.id</th>\n",
       "      <th>artist.name</th>\n",
       "      <th>track.name</th>\n",
       "      <th>track.id</th>\n",
       "      <th>track.duration_ms</th>\n",
       "      <th>track.popularity</th>\n",
       "      <th>track.preview_url</th>\n",
       "      <th>track.image.url</th>\n",
       "      <th>track.image.html</th>\n",
       "    </tr>\n",
       "  </thead>\n",
       "  <tbody>\n",
       "    <tr>\n",
       "      <th>0</th>\n",
       "      <td>4GBgN14vJ7UQYUebQk0hJa</td>\n",
       "      <td>Chime School</td>\n",
       "      <td>Wait Your Turn</td>\n",
       "      <td>5Z37d9IferQIvubtWWWhe0</td>\n",
       "      <td>236676</td>\n",
       "      <td>9</td>\n",
       "      <td>https://p.scdn.co/mp3-preview/878ed5ce7b1b3f00...</td>\n",
       "      <td>https://i.scdn.co/image/ab67616d0000b273f48358...</td>\n",
       "      <td>&lt;img src=\"https://i.scdn.co/image/ab67616d0000...</td>\n",
       "    </tr>\n",
       "    <tr>\n",
       "      <th>1</th>\n",
       "      <td>65mMkD9WW39U9Yadv0dWUF</td>\n",
       "      <td>Rolling Blackouts Coastal Fever</td>\n",
       "      <td>She's There</td>\n",
       "      <td>10rRY5gfdeIHVJJVqSvbV7</td>\n",
       "      <td>224334</td>\n",
       "      <td>0</td>\n",
       "      <td>None</td>\n",
       "      <td>https://i.scdn.co/image/ab67616d0000b273f48358...</td>\n",
       "      <td>&lt;img src=\"https://i.scdn.co/image/ab67616d0000...</td>\n",
       "    </tr>\n",
       "    <tr>\n",
       "      <th>2</th>\n",
       "      <td>4brlhKgPDyI5xPbmRFm8eZ</td>\n",
       "      <td>Jeanines</td>\n",
       "      <td>Who's In The Dark</td>\n",
       "      <td>4oEj0Jju4kHyj24uVIMmQj</td>\n",
       "      <td>84000</td>\n",
       "      <td>2</td>\n",
       "      <td>https://p.scdn.co/mp3-preview/355597ca5e755492...</td>\n",
       "      <td>https://i.scdn.co/image/ab67616d0000b273f48358...</td>\n",
       "      <td>&lt;img src=\"https://i.scdn.co/image/ab67616d0000...</td>\n",
       "    </tr>\n",
       "    <tr>\n",
       "      <th>3</th>\n",
       "      <td>0WTobI5t4W2M1G9mNNUbR8</td>\n",
       "      <td>Ezrat</td>\n",
       "      <td>I Know What That's Like</td>\n",
       "      <td>1gZsSsKOWa7jLdHlG1ttvP</td>\n",
       "      <td>171102</td>\n",
       "      <td>2</td>\n",
       "      <td>https://p.scdn.co/mp3-preview/96acc28fb8328dd3...</td>\n",
       "      <td>https://i.scdn.co/image/ab67616d0000b273f48358...</td>\n",
       "      <td>&lt;img src=\"https://i.scdn.co/image/ab67616d0000...</td>\n",
       "    </tr>\n",
       "    <tr>\n",
       "      <th>4</th>\n",
       "      <td>6xoHdsyiomygIKZ00Rd8oc</td>\n",
       "      <td>The Ashenden Papers</td>\n",
       "      <td>The River Highway</td>\n",
       "      <td>57XK9jbD6kQzprvQWlOruJ</td>\n",
       "      <td>185189</td>\n",
       "      <td>0</td>\n",
       "      <td>https://p.scdn.co/mp3-preview/175fcba4f5cb241b...</td>\n",
       "      <td>https://i.scdn.co/image/ab67616d0000b273f48358...</td>\n",
       "      <td>&lt;img src=\"https://i.scdn.co/image/ab67616d0000...</td>\n",
       "    </tr>\n",
       "  </tbody>\n",
       "</table>\n",
       "</div>"
      ],
      "text/plain": [
       "                artist.id                      artist.name  \\\n",
       "0  4GBgN14vJ7UQYUebQk0hJa                     Chime School   \n",
       "1  65mMkD9WW39U9Yadv0dWUF  Rolling Blackouts Coastal Fever   \n",
       "2  4brlhKgPDyI5xPbmRFm8eZ                         Jeanines   \n",
       "3  0WTobI5t4W2M1G9mNNUbR8                            Ezrat   \n",
       "4  6xoHdsyiomygIKZ00Rd8oc              The Ashenden Papers   \n",
       "\n",
       "                track.name                track.id track.duration_ms  \\\n",
       "0           Wait Your Turn  5Z37d9IferQIvubtWWWhe0            236676   \n",
       "1              She's There  10rRY5gfdeIHVJJVqSvbV7            224334   \n",
       "2        Who's In The Dark  4oEj0Jju4kHyj24uVIMmQj             84000   \n",
       "3  I Know What That's Like  1gZsSsKOWa7jLdHlG1ttvP            171102   \n",
       "4        The River Highway  57XK9jbD6kQzprvQWlOruJ            185189   \n",
       "\n",
       "  track.popularity                                  track.preview_url  \\\n",
       "0                9  https://p.scdn.co/mp3-preview/878ed5ce7b1b3f00...   \n",
       "1                0                                               None   \n",
       "2                2  https://p.scdn.co/mp3-preview/355597ca5e755492...   \n",
       "3                2  https://p.scdn.co/mp3-preview/96acc28fb8328dd3...   \n",
       "4                0  https://p.scdn.co/mp3-preview/175fcba4f5cb241b...   \n",
       "\n",
       "                                     track.image.url  \\\n",
       "0  https://i.scdn.co/image/ab67616d0000b273f48358...   \n",
       "1  https://i.scdn.co/image/ab67616d0000b273f48358...   \n",
       "2  https://i.scdn.co/image/ab67616d0000b273f48358...   \n",
       "3  https://i.scdn.co/image/ab67616d0000b273f48358...   \n",
       "4  https://i.scdn.co/image/ab67616d0000b273f48358...   \n",
       "\n",
       "                                    track.image.html  \n",
       "0  <img src=\"https://i.scdn.co/image/ab67616d0000...  \n",
       "1  <img src=\"https://i.scdn.co/image/ab67616d0000...  \n",
       "2  <img src=\"https://i.scdn.co/image/ab67616d0000...  \n",
       "3  <img src=\"https://i.scdn.co/image/ab67616d0000...  \n",
       "4  <img src=\"https://i.scdn.co/image/ab67616d0000...  "
      ]
     },
     "execution_count": 293,
     "metadata": {},
     "output_type": "execute_result"
    }
   ],
   "source": [
    "out.head()"
   ]
  },
  {
   "cell_type": "code",
   "execution_count": null,
   "metadata": {},
   "outputs": [],
   "source": [
    "HTML(df.to_html(escape=False,formatters=dict(Country='track')))"
   ]
  }
 ],
 "metadata": {
  "kernelspec": {
   "display_name": "Python 3.9.2 ('venv': venv)",
   "language": "python",
   "name": "python3"
  },
  "language_info": {
   "codemirror_mode": {
    "name": "ipython",
    "version": 3
   },
   "file_extension": ".py",
   "mimetype": "text/x-python",
   "name": "python",
   "nbconvert_exporter": "python",
   "pygments_lexer": "ipython3",
   "version": "3.9.2"
  },
  "vscode": {
   "interpreter": {
    "hash": "b1f1e5f6d4ef3de7e48e4c8f94d6e95aa1d7e9d797370f40d0144dec3870163a"
   }
  }
 },
 "nbformat": 4,
 "nbformat_minor": 4
}
